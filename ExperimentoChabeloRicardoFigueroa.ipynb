{
 "cells": [
  {
   "cell_type": "code",
   "execution_count": 267,
   "metadata": {},
   "outputs": [
    {
     "data": {
      "text/plain": [
       "0.66603"
      ]
     },
     "execution_count": 267,
     "metadata": {},
     "output_type": "execute_result"
    }
   ],
   "source": [
    "import random as rand\n",
    "\n",
    "# se define funcion para realizar experimento una sola vez\n",
    "def funCatafixia():\n",
    "    resultado = 0\n",
    "    # se definen los valores del premio ganador y la opcion escogida\n",
    "    my_choice = rand.randint(1,3)\n",
    "    prize_door = rand.randint(1,3)\n",
    "    # la opcion de chabelo es la opcion que queda\n",
    "    chabelo_choice = 6-my_choice-prize_door \n",
    "    # se hace la prueba para ver si se gana o se pierde\n",
    "    if my_choice == prize_door:\n",
    "        resultado = 1\n",
    "    return resultado\n",
    "\n",
    "# se define una funcion en donde se usa un contador para contar el numero de veces que se gana en cierto numero de experimentos\n",
    "def funExperimentos(n):\n",
    "    counter=0.0\n",
    "    for x in range(1,n):\n",
    "        if funCatafixia()==1:\n",
    "            counter+=1.0\n",
    "        else:\n",
    "            counter=counter+0.0\n",
    "    return 1.0-counter/n\n",
    "\n",
    "funExperimentos(100000)\n",
    "# el resultado es 66.6% aproximadamente por lo que conviene cambiar de puerta\n"
   ]
  }
 ],
 "metadata": {
  "kernelspec": {
   "display_name": "Python 2",
   "language": "python",
   "name": "python2"
  },
  "language_info": {
   "codemirror_mode": {
    "name": "ipython",
    "version": 2
   },
   "file_extension": ".py",
   "mimetype": "text/x-python",
   "name": "python",
   "nbconvert_exporter": "python",
   "pygments_lexer": "ipython2",
   "version": "2.7.13"
  }
 },
 "nbformat": 4,
 "nbformat_minor": 2
}
